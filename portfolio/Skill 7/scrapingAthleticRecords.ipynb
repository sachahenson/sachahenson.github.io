{
  "nbformat": 4,
  "nbformat_minor": 0,
  "metadata": {
    "colab": {
      "name": "scrapingAthleticRecords.ipynb",
      "provenance": [],
      "collapsed_sections": []
    },
    "kernelspec": {
      "name": "python3",
      "display_name": "Python 3"
    },
    "language_info": {
      "name": "python"
    }
  },
  "cells": [
    {
      "cell_type": "markdown",
      "metadata": {
        "id": "46rgKtf27Kp0"
      },
      "source": [
        "# Scraping athletic world records by gender and category\n"
      ]
    },
    {
      "cell_type": "code",
      "metadata": {
        "id": "yFAyFejT6Ynu"
      },
      "source": [
        "import requests, pandas as pd, numpy as np"
      ],
      "execution_count": 21,
      "outputs": []
    },
    {
      "cell_type": "code",
      "metadata": {
        "id": "9gU_RNch6vlL"
      },
      "source": [
        "tables=pd.read_html('https://www.worldathletics.org/records/by-category/world-records')"
      ],
      "execution_count": 3,
      "outputs": []
    },
    {
      "cell_type": "code",
      "metadata": {
        "id": "8tJSrnkz0t2d"
      },
      "source": [
        "fOut=tables[0]\n",
        "fIn=tables[1]\n",
        "mOut=tables[2]\n",
        "mIn=tables[3]\n",
        "mixOut=tables[4]"
      ],
      "execution_count": 66,
      "outputs": []
    },
    {
      "cell_type": "code",
      "metadata": {
        "id": "ZQnYQyz43YNF"
      },
      "source": [
        "fOut['Gender']='F'\n",
        "fIn['Gender']='F'\n",
        "mOut['Gender']='M'\n",
        "mIn['Gender']='M'\n",
        "mixOut['Gender']='Mix'"
      ],
      "execution_count": 67,
      "outputs": []
    },
    {
      "cell_type": "code",
      "metadata": {
        "id": "sn1S_4rJ62bg"
      },
      "source": [
        "## add together outdoor sports\n",
        "outdoor_df = fOut.append(mOut).append(mixOut)"
      ],
      "execution_count": 78,
      "outputs": []
    },
    {
      "cell_type": "code",
      "metadata": {
        "id": "e9lRNt4f7Z27"
      },
      "source": [
        "## create outdoor category column and remove irrelevant columns\n",
        "outdoor_df['Category']='Outdoor'\n",
        "outdoor= outdoor_df[[\"Country\",\"Gender\", \"Category\"]]\n",
        "outdoor"
      ],
      "execution_count": null,
      "outputs": []
    },
    {
      "cell_type": "code",
      "metadata": {
        "id": "YnWQ7SfB8jqb"
      },
      "source": [
        "# repeat for indoor\n",
        "indoor_df = fIn.append(mIn)\n",
        "indoor_df['Category']='Indoor'\n",
        "indoor= indoor_df[[\"Country\",\"Gender\", \"Category\"]]\n",
        "indoor"
      ],
      "execution_count": null,
      "outputs": []
    },
    {
      "cell_type": "code",
      "metadata": {
        "id": "upzFqVGy8xem"
      },
      "source": [
        "## append all data together\n",
        "athletic_records=outdoor.append(indoor)\n",
        "athletic_records"
      ],
      "execution_count": null,
      "outputs": []
    },
    {
      "cell_type": "code",
      "metadata": {
        "id": "kTpmdF-L8sxj"
      },
      "source": [
        "## count numbers of records per country\n",
        "athletic_records['Country'].value_counts()"
      ],
      "execution_count": null,
      "outputs": []
    },
    {
      "cell_type": "code",
      "metadata": {
        "colab": {
          "base_uri": "https://localhost:8080/",
          "height": 424
        },
        "id": "7STD5l2xwusK",
        "outputId": "d51806ad-d7e0-4620-af2f-74e17fc9eb9f"
      },
      "source": [
        "## add count of records per country as a column\n",
        "athletic_records['Frequency'] = athletic_records.groupby('Country')['Country'].transform('count')\n",
        "athletic_records"
      ],
      "execution_count": 91,
      "outputs": [
        {
          "output_type": "execute_result",
          "data": {
            "text/html": [
              "<div>\n",
              "<style scoped>\n",
              "    .dataframe tbody tr th:only-of-type {\n",
              "        vertical-align: middle;\n",
              "    }\n",
              "\n",
              "    .dataframe tbody tr th {\n",
              "        vertical-align: top;\n",
              "    }\n",
              "\n",
              "    .dataframe thead th {\n",
              "        text-align: right;\n",
              "    }\n",
              "</style>\n",
              "<table border=\"1\" class=\"dataframe\">\n",
              "  <thead>\n",
              "    <tr style=\"text-align: right;\">\n",
              "      <th></th>\n",
              "      <th>Country</th>\n",
              "      <th>Gender</th>\n",
              "      <th>Category</th>\n",
              "      <th>Frequency</th>\n",
              "    </tr>\n",
              "  </thead>\n",
              "  <tbody>\n",
              "    <tr>\n",
              "      <th>0</th>\n",
              "      <td>USA</td>\n",
              "      <td>F</td>\n",
              "      <td>Outdoor</td>\n",
              "      <td>25</td>\n",
              "    </tr>\n",
              "    <tr>\n",
              "      <th>1</th>\n",
              "      <td>USA</td>\n",
              "      <td>F</td>\n",
              "      <td>Outdoor</td>\n",
              "      <td>25</td>\n",
              "    </tr>\n",
              "    <tr>\n",
              "      <th>2</th>\n",
              "      <td>GDR</td>\n",
              "      <td>F</td>\n",
              "      <td>Outdoor</td>\n",
              "      <td>5</td>\n",
              "    </tr>\n",
              "    <tr>\n",
              "      <th>3</th>\n",
              "      <td>TCH</td>\n",
              "      <td>F</td>\n",
              "      <td>Outdoor</td>\n",
              "      <td>3</td>\n",
              "    </tr>\n",
              "    <tr>\n",
              "      <th>4</th>\n",
              "      <td>RUS</td>\n",
              "      <td>F</td>\n",
              "      <td>Outdoor</td>\n",
              "      <td>9</td>\n",
              "    </tr>\n",
              "    <tr>\n",
              "      <th>...</th>\n",
              "      <td>...</td>\n",
              "      <td>...</td>\n",
              "      <td>...</td>\n",
              "      <td>...</td>\n",
              "    </tr>\n",
              "    <tr>\n",
              "      <th>17</th>\n",
              "      <td>USA</td>\n",
              "      <td>M</td>\n",
              "      <td>Indoor</td>\n",
              "      <td>25</td>\n",
              "    </tr>\n",
              "    <tr>\n",
              "      <th>18</th>\n",
              "      <td>RUS</td>\n",
              "      <td>M</td>\n",
              "      <td>Indoor</td>\n",
              "      <td>9</td>\n",
              "    </tr>\n",
              "    <tr>\n",
              "      <th>19</th>\n",
              "      <td>GBR</td>\n",
              "      <td>M</td>\n",
              "      <td>Indoor</td>\n",
              "      <td>3</td>\n",
              "    </tr>\n",
              "    <tr>\n",
              "      <th>20</th>\n",
              "      <td>USA</td>\n",
              "      <td>M</td>\n",
              "      <td>Indoor</td>\n",
              "      <td>25</td>\n",
              "    </tr>\n",
              "    <tr>\n",
              "      <th>21</th>\n",
              "      <td>USA</td>\n",
              "      <td>M</td>\n",
              "      <td>Indoor</td>\n",
              "      <td>25</td>\n",
              "    </tr>\n",
              "  </tbody>\n",
              "</table>\n",
              "<p>137 rows × 4 columns</p>\n",
              "</div>"
            ],
            "text/plain": [
              "   Country Gender Category  Frequency\n",
              "0      USA      F  Outdoor         25\n",
              "1      USA      F  Outdoor         25\n",
              "2      GDR      F  Outdoor          5\n",
              "3      TCH      F  Outdoor          3\n",
              "4      RUS      F  Outdoor          9\n",
              "..     ...    ...      ...        ...\n",
              "17     USA      M   Indoor         25\n",
              "18     RUS      M   Indoor          9\n",
              "19     GBR      M   Indoor          3\n",
              "20     USA      M   Indoor         25\n",
              "21     USA      M   Indoor         25\n",
              "\n",
              "[137 rows x 4 columns]"
            ]
          },
          "metadata": {},
          "execution_count": 91
        }
      ]
    },
    {
      "cell_type": "code",
      "metadata": {
        "id": "2biDhmzfDZfL"
      },
      "source": [
        "athletic_records.to_csv('athletic_records.csv')"
      ],
      "execution_count": null,
      "outputs": []
    }
  ]
}