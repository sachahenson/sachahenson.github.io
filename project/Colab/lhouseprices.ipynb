{
  "nbformat": 4,
  "nbformat_minor": 0,
  "metadata": {
    "colab": {
      "name": "lhouseprices.ipynb",
      "provenance": [],
      "collapsed_sections": []
    },
    "kernelspec": {
      "name": "python3",
      "display_name": "Python 3"
    },
    "language_info": {
      "name": "python"
    }
  },
  "cells": [
    {
      "cell_type": "markdown",
      "source": [
        "#Extracting average house price at the end of each year"
      ],
      "metadata": {
        "id": "j0Nr8HtHcrOp"
      }
    },
    {
      "cell_type": "code",
      "source": [
        "import requests, pandas as pd, numpy as np"
      ],
      "metadata": {
        "id": "31diVbNdsPgY"
      },
      "execution_count": 1,
      "outputs": []
    },
    {
      "cell_type": "code",
      "source": [
        "## Recall raw data from Land Registry that's hosted on my Github\n",
        "lhouseprices = pd.read_csv('https://raw.githubusercontent.com/sachahenson/sachahenson.github.io/main/project/Raw%20data/land-registry-house-prices-borough.csv')"
      ],
      "metadata": {
        "id": "28vhpjkosHZU"
      },
      "execution_count": 2,
      "outputs": []
    },
    {
      "cell_type": "code",
      "source": [
        "## Isolating the dates\n",
        "lhouseprices[['Year ending','Year']] = lhouseprices['Year'].str.split('ending ', expand=True)"
      ],
      "metadata": {
        "id": "-IIWjvHjsQNa"
      },
      "execution_count": 3,
      "outputs": []
    },
    {
      "cell_type": "code",
      "source": [
        "lhouseprices['Month Year']=lhouseprices['Year']\n",
        "lhouseprices[['Month','Year']] = lhouseprices['Year'].str.split(' ', expand=True)"
      ],
      "metadata": {
        "id": "zcAkANjhsmsg"
      },
      "execution_count": 4,
      "outputs": []
    },
    {
      "cell_type": "code",
      "source": [
        "lhouseprices['Month Year format'] = pd.to_datetime(lhouseprices['Month Year'])"
      ],
      "metadata": {
        "id": "6frEe4aXuZKp"
      },
      "execution_count": 5,
      "outputs": []
    },
    {
      "cell_type": "code",
      "source": [
        "## Keeping only London boroughs\n",
        "for i in ['North East','North West','Yorkshire And The Humber','East Midlands','West Midlands','East of England','London','South East','South West','England','Wales','England And Wales']:\n",
        "  lhouseprices = lhouseprices[lhouseprices.Area != i]\n",
        "\n",
        "## Year ending December as a proxy for that year's average house prices. Using median as the normal measure of 'average house prices'.\n",
        "lhouseprices = lhouseprices[lhouseprices.Month == 'Dec']\n",
        "lhouseprices = lhouseprices[lhouseprices.Measure=='Median']"
      ],
      "metadata": {
        "id": "tMN1K69XxIjN"
      },
      "execution_count": 6,
      "outputs": []
    },
    {
      "cell_type": "code",
      "source": [
        "## Removing irrelevant column\n",
        "lhouseprices.drop(columns=['Year ending'], inplace=True)\n",
        "lhouseprices"
      ],
      "metadata": {
        "id": "4YWkVtD-s5P0",
        "outputId": "f9532f6f-c1cc-4723-82a9-6246138feeb8",
        "colab": {
          "base_uri": "https://localhost:8080/",
          "height": 424
        }
      },
      "execution_count": 7,
      "outputs": [
        {
          "output_type": "execute_result",
          "data": {
            "text/html": [
              "\n",
              "  <div id=\"df-2aa09572-1ebb-487f-a592-2d0fcb95100e\">\n",
              "    <div class=\"colab-df-container\">\n",
              "      <div>\n",
              "<style scoped>\n",
              "    .dataframe tbody tr th:only-of-type {\n",
              "        vertical-align: middle;\n",
              "    }\n",
              "\n",
              "    .dataframe tbody tr th {\n",
              "        vertical-align: top;\n",
              "    }\n",
              "\n",
              "    .dataframe thead th {\n",
              "        text-align: right;\n",
              "    }\n",
              "</style>\n",
              "<table border=\"1\" class=\"dataframe\">\n",
              "  <thead>\n",
              "    <tr style=\"text-align: right;\">\n",
              "      <th></th>\n",
              "      <th>Code</th>\n",
              "      <th>Area</th>\n",
              "      <th>Year</th>\n",
              "      <th>Measure</th>\n",
              "      <th>Value</th>\n",
              "      <th>Month Year</th>\n",
              "      <th>Month</th>\n",
              "      <th>Month Year format</th>\n",
              "    </tr>\n",
              "  </thead>\n",
              "  <tbody>\n",
              "    <tr>\n",
              "      <th>0</th>\n",
              "      <td>E09000001</td>\n",
              "      <td>City of London</td>\n",
              "      <td>1995</td>\n",
              "      <td>Median</td>\n",
              "      <td>105,000</td>\n",
              "      <td>Dec 1995</td>\n",
              "      <td>Dec</td>\n",
              "      <td>1995-12-01</td>\n",
              "    </tr>\n",
              "    <tr>\n",
              "      <th>1</th>\n",
              "      <td>E09000002</td>\n",
              "      <td>Barking and Dagenham</td>\n",
              "      <td>1995</td>\n",
              "      <td>Median</td>\n",
              "      <td>49,000</td>\n",
              "      <td>Dec 1995</td>\n",
              "      <td>Dec</td>\n",
              "      <td>1995-12-01</td>\n",
              "    </tr>\n",
              "    <tr>\n",
              "      <th>2</th>\n",
              "      <td>E09000003</td>\n",
              "      <td>Barnet</td>\n",
              "      <td>1995</td>\n",
              "      <td>Median</td>\n",
              "      <td>85,125</td>\n",
              "      <td>Dec 1995</td>\n",
              "      <td>Dec</td>\n",
              "      <td>1995-12-01</td>\n",
              "    </tr>\n",
              "    <tr>\n",
              "      <th>3</th>\n",
              "      <td>E09000004</td>\n",
              "      <td>Bexley</td>\n",
              "      <td>1995</td>\n",
              "      <td>Median</td>\n",
              "      <td>62,000</td>\n",
              "      <td>Dec 1995</td>\n",
              "      <td>Dec</td>\n",
              "      <td>1995-12-01</td>\n",
              "    </tr>\n",
              "    <tr>\n",
              "      <th>4</th>\n",
              "      <td>E09000005</td>\n",
              "      <td>Brent</td>\n",
              "      <td>1995</td>\n",
              "      <td>Median</td>\n",
              "      <td>68,000</td>\n",
              "      <td>Dec 1995</td>\n",
              "      <td>Dec</td>\n",
              "      <td>1995-12-01</td>\n",
              "    </tr>\n",
              "    <tr>\n",
              "      <th>...</th>\n",
              "      <td>...</td>\n",
              "      <td>...</td>\n",
              "      <td>...</td>\n",
              "      <td>...</td>\n",
              "      <td>...</td>\n",
              "      <td>...</td>\n",
              "      <td>...</td>\n",
              "      <td>...</td>\n",
              "    </tr>\n",
              "    <tr>\n",
              "      <th>3988</th>\n",
              "      <td>E09000029</td>\n",
              "      <td>Sutton</td>\n",
              "      <td>2017</td>\n",
              "      <td>Median</td>\n",
              "      <td>367,000</td>\n",
              "      <td>Dec 2017</td>\n",
              "      <td>Dec</td>\n",
              "      <td>2017-12-01</td>\n",
              "    </tr>\n",
              "    <tr>\n",
              "      <th>3989</th>\n",
              "      <td>E09000030</td>\n",
              "      <td>Tower Hamlets</td>\n",
              "      <td>2017</td>\n",
              "      <td>Median</td>\n",
              "      <td>490,000</td>\n",
              "      <td>Dec 2017</td>\n",
              "      <td>Dec</td>\n",
              "      <td>2017-12-01</td>\n",
              "    </tr>\n",
              "    <tr>\n",
              "      <th>3990</th>\n",
              "      <td>E09000031</td>\n",
              "      <td>Waltham Forest</td>\n",
              "      <td>2017</td>\n",
              "      <td>Median</td>\n",
              "      <td>445,000</td>\n",
              "      <td>Dec 2017</td>\n",
              "      <td>Dec</td>\n",
              "      <td>2017-12-01</td>\n",
              "    </tr>\n",
              "    <tr>\n",
              "      <th>3991</th>\n",
              "      <td>E09000032</td>\n",
              "      <td>Wandsworth</td>\n",
              "      <td>2017</td>\n",
              "      <td>Median</td>\n",
              "      <td>654,000</td>\n",
              "      <td>Dec 2017</td>\n",
              "      <td>Dec</td>\n",
              "      <td>2017-12-01</td>\n",
              "    </tr>\n",
              "    <tr>\n",
              "      <th>3992</th>\n",
              "      <td>E09000033</td>\n",
              "      <td>Westminster</td>\n",
              "      <td>2017</td>\n",
              "      <td>Median</td>\n",
              "      <td>1,025,000</td>\n",
              "      <td>Dec 2017</td>\n",
              "      <td>Dec</td>\n",
              "      <td>2017-12-01</td>\n",
              "    </tr>\n",
              "  </tbody>\n",
              "</table>\n",
              "<p>759 rows × 8 columns</p>\n",
              "</div>\n",
              "      <button class=\"colab-df-convert\" onclick=\"convertToInteractive('df-2aa09572-1ebb-487f-a592-2d0fcb95100e')\"\n",
              "              title=\"Convert this dataframe to an interactive table.\"\n",
              "              style=\"display:none;\">\n",
              "        \n",
              "  <svg xmlns=\"http://www.w3.org/2000/svg\" height=\"24px\"viewBox=\"0 0 24 24\"\n",
              "       width=\"24px\">\n",
              "    <path d=\"M0 0h24v24H0V0z\" fill=\"none\"/>\n",
              "    <path d=\"M18.56 5.44l.94 2.06.94-2.06 2.06-.94-2.06-.94-.94-2.06-.94 2.06-2.06.94zm-11 1L8.5 8.5l.94-2.06 2.06-.94-2.06-.94L8.5 2.5l-.94 2.06-2.06.94zm10 10l.94 2.06.94-2.06 2.06-.94-2.06-.94-.94-2.06-.94 2.06-2.06.94z\"/><path d=\"M17.41 7.96l-1.37-1.37c-.4-.4-.92-.59-1.43-.59-.52 0-1.04.2-1.43.59L10.3 9.45l-7.72 7.72c-.78.78-.78 2.05 0 2.83L4 21.41c.39.39.9.59 1.41.59.51 0 1.02-.2 1.41-.59l7.78-7.78 2.81-2.81c.8-.78.8-2.07 0-2.86zM5.41 20L4 18.59l7.72-7.72 1.47 1.35L5.41 20z\"/>\n",
              "  </svg>\n",
              "      </button>\n",
              "      \n",
              "  <style>\n",
              "    .colab-df-container {\n",
              "      display:flex;\n",
              "      flex-wrap:wrap;\n",
              "      gap: 12px;\n",
              "    }\n",
              "\n",
              "    .colab-df-convert {\n",
              "      background-color: #E8F0FE;\n",
              "      border: none;\n",
              "      border-radius: 50%;\n",
              "      cursor: pointer;\n",
              "      display: none;\n",
              "      fill: #1967D2;\n",
              "      height: 32px;\n",
              "      padding: 0 0 0 0;\n",
              "      width: 32px;\n",
              "    }\n",
              "\n",
              "    .colab-df-convert:hover {\n",
              "      background-color: #E2EBFA;\n",
              "      box-shadow: 0px 1px 2px rgba(60, 64, 67, 0.3), 0px 1px 3px 1px rgba(60, 64, 67, 0.15);\n",
              "      fill: #174EA6;\n",
              "    }\n",
              "\n",
              "    [theme=dark] .colab-df-convert {\n",
              "      background-color: #3B4455;\n",
              "      fill: #D2E3FC;\n",
              "    }\n",
              "\n",
              "    [theme=dark] .colab-df-convert:hover {\n",
              "      background-color: #434B5C;\n",
              "      box-shadow: 0px 1px 3px 1px rgba(0, 0, 0, 0.15);\n",
              "      filter: drop-shadow(0px 1px 2px rgba(0, 0, 0, 0.3));\n",
              "      fill: #FFFFFF;\n",
              "    }\n",
              "  </style>\n",
              "\n",
              "      <script>\n",
              "        const buttonEl =\n",
              "          document.querySelector('#df-2aa09572-1ebb-487f-a592-2d0fcb95100e button.colab-df-convert');\n",
              "        buttonEl.style.display =\n",
              "          google.colab.kernel.accessAllowed ? 'block' : 'none';\n",
              "\n",
              "        async function convertToInteractive(key) {\n",
              "          const element = document.querySelector('#df-2aa09572-1ebb-487f-a592-2d0fcb95100e');\n",
              "          const dataTable =\n",
              "            await google.colab.kernel.invokeFunction('convertToInteractive',\n",
              "                                                     [key], {});\n",
              "          if (!dataTable) return;\n",
              "\n",
              "          const docLinkHtml = 'Like what you see? Visit the ' +\n",
              "            '<a target=\"_blank\" href=https://colab.research.google.com/notebooks/data_table.ipynb>data table notebook</a>'\n",
              "            + ' to learn more about interactive tables.';\n",
              "          element.innerHTML = '';\n",
              "          dataTable['output_type'] = 'display_data';\n",
              "          await google.colab.output.renderOutput(dataTable, element);\n",
              "          const docLink = document.createElement('div');\n",
              "          docLink.innerHTML = docLinkHtml;\n",
              "          element.appendChild(docLink);\n",
              "        }\n",
              "      </script>\n",
              "    </div>\n",
              "  </div>\n",
              "  "
            ],
            "text/plain": [
              "           Code                  Area  Year  ... Month Year Month Month Year format\n",
              "0     E09000001        City of London  1995  ...   Dec 1995   Dec        1995-12-01\n",
              "1     E09000002  Barking and Dagenham  1995  ...   Dec 1995   Dec        1995-12-01\n",
              "2     E09000003                Barnet  1995  ...   Dec 1995   Dec        1995-12-01\n",
              "3     E09000004                Bexley  1995  ...   Dec 1995   Dec        1995-12-01\n",
              "4     E09000005                 Brent  1995  ...   Dec 1995   Dec        1995-12-01\n",
              "...         ...                   ...   ...  ...        ...   ...               ...\n",
              "3988  E09000029                Sutton  2017  ...   Dec 2017   Dec        2017-12-01\n",
              "3989  E09000030         Tower Hamlets  2017  ...   Dec 2017   Dec        2017-12-01\n",
              "3990  E09000031        Waltham Forest  2017  ...   Dec 2017   Dec        2017-12-01\n",
              "3991  E09000032            Wandsworth  2017  ...   Dec 2017   Dec        2017-12-01\n",
              "3992  E09000033           Westminster  2017  ...   Dec 2017   Dec        2017-12-01\n",
              "\n",
              "[759 rows x 8 columns]"
            ]
          },
          "metadata": {},
          "execution_count": 7
        }
      ]
    },
    {
      "cell_type": "code",
      "source": [
        "lhouseprices.to_csv('lhouseprices.csv')"
      ],
      "metadata": {
        "id": "j-8qYYTyyRgI"
      },
      "execution_count": 8,
      "outputs": []
    },
    {
      "cell_type": "code",
      "source": [
        "## Creating log of house value. Log is used to caution against large values.\n",
        "lhouseprices_final=lhouseprices[['Area','Year','Value']]"
      ],
      "metadata": {
        "id": "Joo3pchBeGRc"
      },
      "execution_count": 9,
      "outputs": []
    },
    {
      "cell_type": "code",
      "source": [
        "lhouseprices_final.dtypes"
      ],
      "metadata": {
        "id": "wQmi-iPsgfWC",
        "outputId": "70aaa16f-29af-46be-9195-f01bb214de59",
        "colab": {
          "base_uri": "https://localhost:8080/"
        }
      },
      "execution_count": 10,
      "outputs": [
        {
          "output_type": "execute_result",
          "data": {
            "text/plain": [
              "Area     object\n",
              "Year     object\n",
              "Value    object\n",
              "dtype: object"
            ]
          },
          "metadata": {},
          "execution_count": 10
        }
      ]
    },
    {
      "cell_type": "code",
      "source": [
        "## Convert years to integer\n",
        "lhouseprices_final['Year'] = pd.to_numeric(lhouseprices_final['Year'])\n",
        "lhouseprices_final.dtypes"
      ],
      "metadata": {
        "id": "U-zX4PZMgt8C",
        "outputId": "558a1031-cddd-4ebc-857d-e93d09c78fac",
        "colab": {
          "base_uri": "https://localhost:8080/"
        }
      },
      "execution_count": 11,
      "outputs": [
        {
          "output_type": "stream",
          "name": "stderr",
          "text": [
            "/usr/local/lib/python3.7/dist-packages/ipykernel_launcher.py:2: SettingWithCopyWarning: \n",
            "A value is trying to be set on a copy of a slice from a DataFrame.\n",
            "Try using .loc[row_indexer,col_indexer] = value instead\n",
            "\n",
            "See the caveats in the documentation: https://pandas.pydata.org/pandas-docs/stable/user_guide/indexing.html#returning-a-view-versus-a-copy\n",
            "  \n"
          ]
        },
        {
          "output_type": "execute_result",
          "data": {
            "text/plain": [
              "Area     object\n",
              "Year      int64\n",
              "Value    object\n",
              "dtype: object"
            ]
          },
          "metadata": {},
          "execution_count": 11
        }
      ]
    },
    {
      "cell_type": "code",
      "source": [
        "## Keep only years 2008 and up to match crime data\n",
        "lhouseprices_final = lhouseprices_final[lhouseprices_final.Year >= 2007]\n",
        "lhouseprices_final"
      ],
      "metadata": {
        "id": "wtbubMkDefkz",
        "outputId": "a4e3553a-1b66-4da6-b454-f109944c1e28",
        "colab": {
          "base_uri": "https://localhost:8080/",
          "height": 424
        }
      },
      "execution_count": 12,
      "outputs": [
        {
          "output_type": "execute_result",
          "data": {
            "text/html": [
              "\n",
              "  <div id=\"df-12982eb7-7004-43de-a8ba-cc655cf9de41\">\n",
              "    <div class=\"colab-df-container\">\n",
              "      <div>\n",
              "<style scoped>\n",
              "    .dataframe tbody tr th:only-of-type {\n",
              "        vertical-align: middle;\n",
              "    }\n",
              "\n",
              "    .dataframe tbody tr th {\n",
              "        vertical-align: top;\n",
              "    }\n",
              "\n",
              "    .dataframe thead th {\n",
              "        text-align: right;\n",
              "    }\n",
              "</style>\n",
              "<table border=\"1\" class=\"dataframe\">\n",
              "  <thead>\n",
              "    <tr style=\"text-align: right;\">\n",
              "      <th></th>\n",
              "      <th>Area</th>\n",
              "      <th>Year</th>\n",
              "      <th>Value</th>\n",
              "    </tr>\n",
              "  </thead>\n",
              "  <tbody>\n",
              "    <tr>\n",
              "      <th>2160</th>\n",
              "      <td>City of London</td>\n",
              "      <td>2007</td>\n",
              "      <td>416,250</td>\n",
              "    </tr>\n",
              "    <tr>\n",
              "      <th>2161</th>\n",
              "      <td>Barking and Dagenham</td>\n",
              "      <td>2007</td>\n",
              "      <td>185,000</td>\n",
              "    </tr>\n",
              "    <tr>\n",
              "      <th>2162</th>\n",
              "      <td>Barnet</td>\n",
              "      <td>2007</td>\n",
              "      <td>295,000</td>\n",
              "    </tr>\n",
              "    <tr>\n",
              "      <th>2163</th>\n",
              "      <td>Bexley</td>\n",
              "      <td>2007</td>\n",
              "      <td>212,000</td>\n",
              "    </tr>\n",
              "    <tr>\n",
              "      <th>2164</th>\n",
              "      <td>Brent</td>\n",
              "      <td>2007</td>\n",
              "      <td>280,000</td>\n",
              "    </tr>\n",
              "    <tr>\n",
              "      <th>...</th>\n",
              "      <td>...</td>\n",
              "      <td>...</td>\n",
              "      <td>...</td>\n",
              "    </tr>\n",
              "    <tr>\n",
              "      <th>3988</th>\n",
              "      <td>Sutton</td>\n",
              "      <td>2017</td>\n",
              "      <td>367,000</td>\n",
              "    </tr>\n",
              "    <tr>\n",
              "      <th>3989</th>\n",
              "      <td>Tower Hamlets</td>\n",
              "      <td>2017</td>\n",
              "      <td>490,000</td>\n",
              "    </tr>\n",
              "    <tr>\n",
              "      <th>3990</th>\n",
              "      <td>Waltham Forest</td>\n",
              "      <td>2017</td>\n",
              "      <td>445,000</td>\n",
              "    </tr>\n",
              "    <tr>\n",
              "      <th>3991</th>\n",
              "      <td>Wandsworth</td>\n",
              "      <td>2017</td>\n",
              "      <td>654,000</td>\n",
              "    </tr>\n",
              "    <tr>\n",
              "      <th>3992</th>\n",
              "      <td>Westminster</td>\n",
              "      <td>2017</td>\n",
              "      <td>1,025,000</td>\n",
              "    </tr>\n",
              "  </tbody>\n",
              "</table>\n",
              "<p>363 rows × 3 columns</p>\n",
              "</div>\n",
              "      <button class=\"colab-df-convert\" onclick=\"convertToInteractive('df-12982eb7-7004-43de-a8ba-cc655cf9de41')\"\n",
              "              title=\"Convert this dataframe to an interactive table.\"\n",
              "              style=\"display:none;\">\n",
              "        \n",
              "  <svg xmlns=\"http://www.w3.org/2000/svg\" height=\"24px\"viewBox=\"0 0 24 24\"\n",
              "       width=\"24px\">\n",
              "    <path d=\"M0 0h24v24H0V0z\" fill=\"none\"/>\n",
              "    <path d=\"M18.56 5.44l.94 2.06.94-2.06 2.06-.94-2.06-.94-.94-2.06-.94 2.06-2.06.94zm-11 1L8.5 8.5l.94-2.06 2.06-.94-2.06-.94L8.5 2.5l-.94 2.06-2.06.94zm10 10l.94 2.06.94-2.06 2.06-.94-2.06-.94-.94-2.06-.94 2.06-2.06.94z\"/><path d=\"M17.41 7.96l-1.37-1.37c-.4-.4-.92-.59-1.43-.59-.52 0-1.04.2-1.43.59L10.3 9.45l-7.72 7.72c-.78.78-.78 2.05 0 2.83L4 21.41c.39.39.9.59 1.41.59.51 0 1.02-.2 1.41-.59l7.78-7.78 2.81-2.81c.8-.78.8-2.07 0-2.86zM5.41 20L4 18.59l7.72-7.72 1.47 1.35L5.41 20z\"/>\n",
              "  </svg>\n",
              "      </button>\n",
              "      \n",
              "  <style>\n",
              "    .colab-df-container {\n",
              "      display:flex;\n",
              "      flex-wrap:wrap;\n",
              "      gap: 12px;\n",
              "    }\n",
              "\n",
              "    .colab-df-convert {\n",
              "      background-color: #E8F0FE;\n",
              "      border: none;\n",
              "      border-radius: 50%;\n",
              "      cursor: pointer;\n",
              "      display: none;\n",
              "      fill: #1967D2;\n",
              "      height: 32px;\n",
              "      padding: 0 0 0 0;\n",
              "      width: 32px;\n",
              "    }\n",
              "\n",
              "    .colab-df-convert:hover {\n",
              "      background-color: #E2EBFA;\n",
              "      box-shadow: 0px 1px 2px rgba(60, 64, 67, 0.3), 0px 1px 3px 1px rgba(60, 64, 67, 0.15);\n",
              "      fill: #174EA6;\n",
              "    }\n",
              "\n",
              "    [theme=dark] .colab-df-convert {\n",
              "      background-color: #3B4455;\n",
              "      fill: #D2E3FC;\n",
              "    }\n",
              "\n",
              "    [theme=dark] .colab-df-convert:hover {\n",
              "      background-color: #434B5C;\n",
              "      box-shadow: 0px 1px 3px 1px rgba(0, 0, 0, 0.15);\n",
              "      filter: drop-shadow(0px 1px 2px rgba(0, 0, 0, 0.3));\n",
              "      fill: #FFFFFF;\n",
              "    }\n",
              "  </style>\n",
              "\n",
              "      <script>\n",
              "        const buttonEl =\n",
              "          document.querySelector('#df-12982eb7-7004-43de-a8ba-cc655cf9de41 button.colab-df-convert');\n",
              "        buttonEl.style.display =\n",
              "          google.colab.kernel.accessAllowed ? 'block' : 'none';\n",
              "\n",
              "        async function convertToInteractive(key) {\n",
              "          const element = document.querySelector('#df-12982eb7-7004-43de-a8ba-cc655cf9de41');\n",
              "          const dataTable =\n",
              "            await google.colab.kernel.invokeFunction('convertToInteractive',\n",
              "                                                     [key], {});\n",
              "          if (!dataTable) return;\n",
              "\n",
              "          const docLinkHtml = 'Like what you see? Visit the ' +\n",
              "            '<a target=\"_blank\" href=https://colab.research.google.com/notebooks/data_table.ipynb>data table notebook</a>'\n",
              "            + ' to learn more about interactive tables.';\n",
              "          element.innerHTML = '';\n",
              "          dataTable['output_type'] = 'display_data';\n",
              "          await google.colab.output.renderOutput(dataTable, element);\n",
              "          const docLink = document.createElement('div');\n",
              "          docLink.innerHTML = docLinkHtml;\n",
              "          element.appendChild(docLink);\n",
              "        }\n",
              "      </script>\n",
              "    </div>\n",
              "  </div>\n",
              "  "
            ],
            "text/plain": [
              "                      Area  Year      Value\n",
              "2160        City of London  2007    416,250\n",
              "2161  Barking and Dagenham  2007    185,000\n",
              "2162                Barnet  2007    295,000\n",
              "2163                Bexley  2007    212,000\n",
              "2164                 Brent  2007    280,000\n",
              "...                    ...   ...        ...\n",
              "3988                Sutton  2017    367,000\n",
              "3989         Tower Hamlets  2017    490,000\n",
              "3990        Waltham Forest  2017    445,000\n",
              "3991            Wandsworth  2017    654,000\n",
              "3992           Westminster  2017  1,025,000\n",
              "\n",
              "[363 rows x 3 columns]"
            ]
          },
          "metadata": {},
          "execution_count": 12
        }
      ]
    },
    {
      "cell_type": "code",
      "source": [
        "lhouseprices_final.sort_values(['Area','Year'], inplace=True,ascending=[True, True])"
      ],
      "metadata": {
        "id": "ttj9VSHjkQKx",
        "outputId": "f6b5524f-e0ef-452d-8d9f-d9ae2fb8a16a",
        "colab": {
          "base_uri": "https://localhost:8080/"
        }
      },
      "execution_count": 13,
      "outputs": [
        {
          "output_type": "stream",
          "name": "stderr",
          "text": [
            "/usr/local/lib/python3.7/dist-packages/ipykernel_launcher.py:1: SettingWithCopyWarning: \n",
            "A value is trying to be set on a copy of a slice from a DataFrame\n",
            "\n",
            "See the caveats in the documentation: https://pandas.pydata.org/pandas-docs/stable/user_guide/indexing.html#returning-a-view-versus-a-copy\n",
            "  \"\"\"Entry point for launching an IPython kernel.\n"
          ]
        }
      ]
    },
    {
      "cell_type": "code",
      "source": [
        "## Converting house price average into value to prepare for logging\n",
        "lhouseprices_final['Value']=lhouseprices_final['Value'].str.replace(',','')\n",
        "lhouseprices_final['Value'] = pd.to_numeric(lhouseprices_final['Value'], downcast='integer')"
      ],
      "metadata": {
        "id": "E5TLxsKjmlQV",
        "outputId": "1b70aee3-dac0-4def-ae80-394463757e38",
        "colab": {
          "base_uri": "https://localhost:8080/"
        }
      },
      "execution_count": 14,
      "outputs": [
        {
          "output_type": "stream",
          "name": "stderr",
          "text": [
            "/usr/local/lib/python3.7/dist-packages/ipykernel_launcher.py:2: SettingWithCopyWarning: \n",
            "A value is trying to be set on a copy of a slice from a DataFrame.\n",
            "Try using .loc[row_indexer,col_indexer] = value instead\n",
            "\n",
            "See the caveats in the documentation: https://pandas.pydata.org/pandas-docs/stable/user_guide/indexing.html#returning-a-view-versus-a-copy\n",
            "  \n",
            "/usr/local/lib/python3.7/dist-packages/ipykernel_launcher.py:3: SettingWithCopyWarning: \n",
            "A value is trying to be set on a copy of a slice from a DataFrame.\n",
            "Try using .loc[row_indexer,col_indexer] = value instead\n",
            "\n",
            "See the caveats in the documentation: https://pandas.pydata.org/pandas-docs/stable/user_guide/indexing.html#returning-a-view-versus-a-copy\n",
            "  This is separate from the ipykernel package so we can avoid doing imports until\n"
          ]
        }
      ]
    },
    {
      "cell_type": "code",
      "source": [
        "## Absolute percentage change\n",
        "lhouseprices_final['pct_ch'] = (lhouseprices_final.groupby('Area')['Value'].apply(pd.Series.pct_change)*100)"
      ],
      "metadata": {
        "id": "WzwqOKb0j_t6"
      },
      "execution_count": 15,
      "outputs": []
    },
    {
      "cell_type": "code",
      "source": [
        "## Log average house value\n",
        "lhouseprices_final['log_value'] = np.log(lhouseprices_final['Value'])"
      ],
      "metadata": {
        "id": "VGUm9Xr_mNly"
      },
      "execution_count": 16,
      "outputs": []
    },
    {
      "cell_type": "code",
      "source": [
        "## Log percentage change\n",
        "lhouseprices_final['logpct_ch'] = (lhouseprices_final.groupby('Area')['log_value'].apply(pd.Series.pct_change)*100)"
      ],
      "metadata": {
        "id": "z1dkhZxdm6py"
      },
      "execution_count": 17,
      "outputs": []
    },
    {
      "cell_type": "code",
      "source": [
        "## Save\n",
        "lhouseprices_final.to_csv('loghouseprices08-17.csv')"
      ],
      "metadata": {
        "id": "Cab_EwgRf9W2"
      },
      "execution_count": 18,
      "outputs": []
    }
  ]
}